{
 "cells": [
  {
   "cell_type": "code",
   "execution_count": 1,
   "metadata": {},
   "outputs": [
    {
     "name": "stdout",
     "output_type": "stream",
     "text": [
      "Requirement already satisfied: fuzzywuzzy in d:\\kariyer\\anaconda\\lib\\site-packages (0.18.0)\n",
      "Note: you may need to restart the kernel to use updated packages.\n"
     ]
    }
   ],
   "source": [
    "pip install fuzzywuzzy"
   ]
  },
  {
   "cell_type": "code",
   "execution_count": 2,
   "metadata": {},
   "outputs": [],
   "source": [
    "import difflib\n",
    "from nltk.tokenize import word_tokenize"
   ]
  },
  {
   "cell_type": "code",
   "execution_count": 5,
   "metadata": {},
   "outputs": [
    {
     "name": "stdout",
     "output_type": "stream",
     "text": [
      "1.0\n"
     ]
    }
   ],
   "source": [
    "s1='araba'\n",
    "s2='araba'\n",
    "print(difflib.SequenceMatcher(None,s1,s2,False).ratio())"
   ]
  },
  {
   "cell_type": "code",
   "execution_count": 6,
   "metadata": {},
   "outputs": [
    {
     "name": "stdout",
     "output_type": "stream",
     "text": [
      "Fuzzywuzzy Ratio: 54\n",
      "List of rations: \n",
      "[('babaca', 90), ('badana', 68), ('balayı', 68), ('bağlam', 60), ('baldız', 45)] \n",
      "\n",
      "Best amang the above list: ('babaca', 90)\n"
     ]
    },
    {
     "name": "stderr",
     "output_type": "stream",
     "text": [
      "D:\\kariyer\\anaconda\\lib\\site-packages\\fuzzywuzzy\\fuzz.py:11: UserWarning: Using slow pure-python SequenceMatcher. Install python-Levenshtein to remove this warning\n",
      "  warnings.warn('Using slow pure-python SequenceMatcher. Install python-Levenshtein to remove this warning')\n"
     ]
    }
   ],
   "source": [
    "from fuzzywuzzy import fuzz\n",
    "from fuzzywuzzy import process\n",
    "\n",
    "s1= \"Akdenizde dağlar denize paraleldir.\"\n",
    "s2=\"Egede dağlar denize dik biçimde konumlanmıştır.\"\n",
    "print(\"Fuzzywuzzy Ratio:\", fuzz.ratio(s1, s2))\n",
    "\n",
    "query = 'baba'\n",
    "choices = ['babaca','bağlam','badana','balayı','baldız']\n",
    "print (\"List of rations: \")\n",
    "print (process.extract(query, choices), '\\n')\n",
    "print (\"Best amang the above list:\" ,process.extractOne(query, choices))"
   ]
  },
  {
   "cell_type": "code",
   "execution_count": 7,
   "metadata": {},
   "outputs": [
    {
     "name": "stderr",
     "output_type": "stream",
     "text": [
      "[nltk_data] Downloading package stopwords to C:\\Users\\Ali\n",
      "[nltk_data]     Doğan\\AppData\\Roaming\\nltk_data...\n",
      "[nltk_data]   Package stopwords is already up-to-date!\n"
     ]
    }
   ],
   "source": [
    "import nltk\n",
    "import re\n",
    "from nltk.collocations import *\n",
    "from collections import Counter\n",
    "nltk.download('stopwords')\n",
    "import difflib\n",
    "from nltk.tokenize import word_tokenize\n",
    "import pandas as pd"
   ]
  },
  {
   "cell_type": "code",
   "execution_count": 8,
   "metadata": {},
   "outputs": [],
   "source": [
    "def basic_clean(text):\n",
    "\n",
    "  wnl = nltk.stem.WordNetLemmatizer()\n",
    "  stopwords = nltk.corpus.stopwords.words('turkish') \n",
    "  words = re.sub(r'[^\\w\\s]', '', text).split()\n",
    "  return [wnl.lemmatize(word) for word in words if word not in stopwords]"
   ]
  },
  {
   "cell_type": "code",
   "execution_count": 9,
   "metadata": {},
   "outputs": [],
   "source": [
    "open_file=open('nlp7.txt',encoding=\"utf-8\")\n",
    "df=open_file.read()"
   ]
  },
  {
   "cell_type": "code",
   "execution_count": 10,
   "metadata": {},
   "outputs": [],
   "source": [
    "words = basic_clean(df)"
   ]
  },
  {
   "cell_type": "code",
   "execution_count": 11,
   "metadata": {},
   "outputs": [
    {
     "name": "stdout",
     "output_type": "stream",
     "text": [
      "('elema',) is used 2 times\n",
      "('eşkici',) is used 2 times\n",
      "('asy',) is used 2 times\n",
      "('erkek',) is used 2 times\n",
      "('globbal',) is used 2 times\n",
      "('lisse',) is used 2 times\n",
      "('rtakım',) is used 2 times\n",
      "('hurma',) is used 1 times\n",
      "('nar',) is used 1 times\n",
      "('üzüm',) is used 1 times\n",
      "('çilek',) is used 1 times\n",
      "('erik',) is used 1 times\n"
     ]
    }
   ],
   "source": [
    "low=nltk.ngrams(words,1)\n",
    "lowFrequency=Counter(low)\n",
    "valuesOfLowFrequency=list(lowFrequency.values())\n",
    "lowFrequencyList=list(lowFrequency)\n",
    "\n",
    "for x in range(0,len(lowFrequencyList)):\n",
    "    if(valuesOfLowFrequency[x]<5):\n",
    "        print(lowFrequencyList[x],\"is used\",valuesOfLowFrequency[x],\"times\")"
   ]
  },
  {
   "cell_type": "code",
   "execution_count": 12,
   "metadata": {},
   "outputs": [
    {
     "name": "stdout",
     "output_type": "stream",
     "text": [
      "('eleman',) is used 8 times\n",
      "('eskici',) is used 8 times\n",
      "('asya',) is used 8 times\n",
      "('global',) is used 8 times\n",
      "('lise',) is used 8 times\n",
      "('takım',) is used 8 times\n",
      "('elma',) is used 6 times\n",
      "('armut',) is used 6 times\n",
      "('kayısı',) is used 6 times\n",
      "('ayva',) is used 6 times\n"
     ]
    }
   ],
   "source": [
    "high=nltk.ngrams(words,1)\n",
    "highFrequency=Counter(high)\n",
    "valuesOfHighFrequency=list(highFrequency.values())\n",
    "highFrequencyList=list(highFrequency)\n",
    "\n",
    "for x in range(0,len(highFrequencyList)):\n",
    "    if(valuesOfHighFrequency[x]>5):\n",
    "        print(highFrequencyList[x],\"is used\",valuesOfHighFrequency[x],\"times\")"
   ]
  },
  {
   "cell_type": "code",
   "execution_count": 13,
   "metadata": {},
   "outputs": [],
   "source": [
    "low_freq_list=\"\"\" elema eşkici asy erkek globbal lisse rtakım\"\"\"\n",
    "low_freq_list=low_freq_list.split()"
   ]
  },
  {
   "cell_type": "code",
   "execution_count": 14,
   "metadata": {},
   "outputs": [],
   "source": [
    "high_freq_list=\"\"\" eleman eskici asya global lise takım\"\"\"\n",
    "high_freq_list=high_freq_list.split()"
   ]
  },
  {
   "cell_type": "code",
   "execution_count": 15,
   "metadata": {},
   "outputs": [
    {
     "name": "stdout",
     "output_type": "stream",
     "text": [
      "[(['elema'], ['eleman']), 'Similarity=>', 0.9090909090909091]\n",
      "[(['elema'], ['eskici']), 'Similarity=>', 0.18181818181818182]\n",
      "[(['elema'], ['asya']), 'Similarity=>', 0.2222222222222222]\n",
      "[(['elema'], ['global']), 'Similarity=>', 0.36363636363636365]\n",
      "[(['elema'], ['lise']), 'Similarity=>', 0.2222222222222222]\n",
      "[(['elema'], ['takım']), 'Similarity=>', 0.2]\n",
      "[(['eşkici'], ['eleman']), 'Similarity=>', 0.16666666666666666]\n",
      "[(['eşkici'], ['eskici']), 'Similarity=>', 0.8333333333333334]\n",
      "[(['eşkici'], ['asya']), 'Similarity=>', 0.0]\n",
      "[(['eşkici'], ['global']), 'Similarity=>', 0.0]\n",
      "[(['eşkici'], ['lise']), 'Similarity=>', 0.2]\n",
      "[(['eşkici'], ['takım']), 'Similarity=>', 0.18181818181818182]\n",
      "[(['asy'], ['eleman']), 'Similarity=>', 0.2222222222222222]\n",
      "[(['asy'], ['eskici']), 'Similarity=>', 0.2222222222222222]\n",
      "[(['asy'], ['asya']), 'Similarity=>', 0.8571428571428571]\n",
      "[(['asy'], ['global']), 'Similarity=>', 0.2222222222222222]\n",
      "[(['asy'], ['lise']), 'Similarity=>', 0.2857142857142857]\n",
      "[(['asy'], ['takım']), 'Similarity=>', 0.25]\n",
      "[(['erkek'], ['eleman']), 'Similarity=>', 0.36363636363636365]\n",
      "[(['erkek'], ['eskici']), 'Similarity=>', 0.36363636363636365]\n",
      "[(['erkek'], ['asya']), 'Similarity=>', 0.0]\n",
      "[(['erkek'], ['global']), 'Similarity=>', 0.0]\n",
      "[(['erkek'], ['lise']), 'Similarity=>', 0.2222222222222222]\n",
      "[(['erkek'], ['takım']), 'Similarity=>', 0.2]\n",
      "[(['globbal'], ['eleman']), 'Similarity=>', 0.3076923076923077]\n",
      "[(['globbal'], ['eskici']), 'Similarity=>', 0.0]\n",
      "[(['globbal'], ['asya']), 'Similarity=>', 0.18181818181818182]\n",
      "[(['globbal'], ['global']), 'Similarity=>', 0.9230769230769231]\n",
      "[(['globbal'], ['lise']), 'Similarity=>', 0.18181818181818182]\n",
      "[(['globbal'], ['takım']), 'Similarity=>', 0.16666666666666666]\n",
      "[(['lisse'], ['eleman']), 'Similarity=>', 0.36363636363636365]\n",
      "[(['lisse'], ['eskici']), 'Similarity=>', 0.18181818181818182]\n",
      "[(['lisse'], ['asya']), 'Similarity=>', 0.2222222222222222]\n",
      "[(['lisse'], ['global']), 'Similarity=>', 0.18181818181818182]\n",
      "[(['lisse'], ['lise']), 'Similarity=>', 0.8888888888888888]\n",
      "[(['lisse'], ['takım']), 'Similarity=>', 0.0]\n",
      "[(['rtakım'], ['eleman']), 'Similarity=>', 0.16666666666666666]\n",
      "[(['rtakım'], ['eskici']), 'Similarity=>', 0.16666666666666666]\n",
      "[(['rtakım'], ['asya']), 'Similarity=>', 0.2]\n",
      "[(['rtakım'], ['global']), 'Similarity=>', 0.16666666666666666]\n",
      "[(['rtakım'], ['lise']), 'Similarity=>', 0.0]\n",
      "[(['rtakım'], ['takım']), 'Similarity=>', 0.9090909090909091]\n"
     ]
    }
   ],
   "source": [
    "for token1 in low_freq_list:\n",
    "    for token2 in high_freq_list:\n",
    "        mylist=[(token1.splitlines(),token2.splitlines()),\"Similarity=>\",difflib.SequenceMatcher(None,token1,token2,False).ratio()]\n",
    "        print(mylist)"
   ]
  },
  {
   "cell_type": "code",
   "execution_count": 16,
   "metadata": {},
   "outputs": [
    {
     "data": {
      "text/plain": [
       "[(['elema'], ['eleman'], 0.9090909090909091),\n",
       " (['eşkici'], ['eleman'], 0.16666666666666666),\n",
       " (['asy'], ['eleman'], 0.2222222222222222),\n",
       " (['erkek'], ['eleman'], 0.36363636363636365),\n",
       " (['globbal'], ['eleman'], 0.3076923076923077),\n",
       " (['lisse'], ['eleman'], 0.36363636363636365),\n",
       " (['rtakım'], ['eleman'], 0.16666666666666666),\n",
       " (['elema'], ['eskici'], 0.18181818181818182),\n",
       " (['eşkici'], ['eskici'], 0.8333333333333334),\n",
       " (['asy'], ['eskici'], 0.2222222222222222),\n",
       " (['erkek'], ['eskici'], 0.36363636363636365),\n",
       " (['globbal'], ['eskici'], 0.0),\n",
       " (['lisse'], ['eskici'], 0.18181818181818182),\n",
       " (['rtakım'], ['eskici'], 0.16666666666666666),\n",
       " (['elema'], ['asya'], 0.2222222222222222),\n",
       " (['eşkici'], ['asya'], 0.0),\n",
       " (['asy'], ['asya'], 0.8571428571428571),\n",
       " (['erkek'], ['asya'], 0.0),\n",
       " (['globbal'], ['asya'], 0.18181818181818182),\n",
       " (['lisse'], ['asya'], 0.2222222222222222),\n",
       " (['rtakım'], ['asya'], 0.2),\n",
       " (['elema'], ['global'], 0.36363636363636365),\n",
       " (['eşkici'], ['global'], 0.0),\n",
       " (['asy'], ['global'], 0.2222222222222222),\n",
       " (['erkek'], ['global'], 0.0),\n",
       " (['globbal'], ['global'], 0.9230769230769231),\n",
       " (['lisse'], ['global'], 0.18181818181818182),\n",
       " (['rtakım'], ['global'], 0.16666666666666666),\n",
       " (['elema'], ['lise'], 0.2222222222222222),\n",
       " (['eşkici'], ['lise'], 0.2),\n",
       " (['asy'], ['lise'], 0.2857142857142857),\n",
       " (['erkek'], ['lise'], 0.2222222222222222),\n",
       " (['globbal'], ['lise'], 0.18181818181818182),\n",
       " (['lisse'], ['lise'], 0.8888888888888888),\n",
       " (['rtakım'], ['lise'], 0.0),\n",
       " (['elema'], ['takım'], 0.2),\n",
       " (['eşkici'], ['takım'], 0.18181818181818182),\n",
       " (['asy'], ['takım'], 0.25),\n",
       " (['erkek'], ['takım'], 0.2),\n",
       " (['globbal'], ['takım'], 0.16666666666666666),\n",
       " (['lisse'], ['takım'], 0.0),\n",
       " (['rtakım'], ['takım'], 0.9090909090909091)]"
      ]
     },
     "execution_count": 16,
     "metadata": {},
     "output_type": "execute_result"
    }
   ],
   "source": [
    "mylist2=[(token1.splitlines(),token2.splitlines(),difflib.SequenceMatcher(None,token1,token2,False).ratio()) for token2 in high_freq_list for token1 in low_freq_list]\n",
    "mylist2"
   ]
  },
  {
   "cell_type": "code",
   "execution_count": 17,
   "metadata": {},
   "outputs": [],
   "source": [
    "df=pd.DataFrame(mylist2)"
   ]
  },
  {
   "cell_type": "code",
   "execution_count": 18,
   "metadata": {},
   "outputs": [
    {
     "data": {
      "text/html": [
       "<div>\n",
       "<style scoped>\n",
       "    .dataframe tbody tr th:only-of-type {\n",
       "        vertical-align: middle;\n",
       "    }\n",
       "\n",
       "    .dataframe tbody tr th {\n",
       "        vertical-align: top;\n",
       "    }\n",
       "\n",
       "    .dataframe thead th {\n",
       "        text-align: right;\n",
       "    }\n",
       "</style>\n",
       "<table border=\"1\" class=\"dataframe\">\n",
       "  <thead>\n",
       "    <tr style=\"text-align: right;\">\n",
       "      <th></th>\n",
       "      <th>0</th>\n",
       "      <th>1</th>\n",
       "      <th>2</th>\n",
       "    </tr>\n",
       "  </thead>\n",
       "  <tbody>\n",
       "    <tr>\n",
       "      <th>0</th>\n",
       "      <td>[elema]</td>\n",
       "      <td>[eleman]</td>\n",
       "      <td>0.909091</td>\n",
       "    </tr>\n",
       "    <tr>\n",
       "      <th>1</th>\n",
       "      <td>[eşkici]</td>\n",
       "      <td>[eleman]</td>\n",
       "      <td>0.166667</td>\n",
       "    </tr>\n",
       "    <tr>\n",
       "      <th>2</th>\n",
       "      <td>[asy]</td>\n",
       "      <td>[eleman]</td>\n",
       "      <td>0.222222</td>\n",
       "    </tr>\n",
       "    <tr>\n",
       "      <th>3</th>\n",
       "      <td>[erkek]</td>\n",
       "      <td>[eleman]</td>\n",
       "      <td>0.363636</td>\n",
       "    </tr>\n",
       "    <tr>\n",
       "      <th>4</th>\n",
       "      <td>[globbal]</td>\n",
       "      <td>[eleman]</td>\n",
       "      <td>0.307692</td>\n",
       "    </tr>\n",
       "  </tbody>\n",
       "</table>\n",
       "</div>"
      ],
      "text/plain": [
       "           0         1         2\n",
       "0    [elema]  [eleman]  0.909091\n",
       "1   [eşkici]  [eleman]  0.166667\n",
       "2      [asy]  [eleman]  0.222222\n",
       "3    [erkek]  [eleman]  0.363636\n",
       "4  [globbal]  [eleman]  0.307692"
      ]
     },
     "execution_count": 18,
     "metadata": {},
     "output_type": "execute_result"
    }
   ],
   "source": [
    "df.head()"
   ]
  },
  {
   "cell_type": "code",
   "execution_count": 19,
   "metadata": {},
   "outputs": [
    {
     "data": {
      "text/html": [
       "<div>\n",
       "<style scoped>\n",
       "    .dataframe tbody tr th:only-of-type {\n",
       "        vertical-align: middle;\n",
       "    }\n",
       "\n",
       "    .dataframe tbody tr th {\n",
       "        vertical-align: top;\n",
       "    }\n",
       "\n",
       "    .dataframe thead th {\n",
       "        text-align: right;\n",
       "    }\n",
       "</style>\n",
       "<table border=\"1\" class=\"dataframe\">\n",
       "  <thead>\n",
       "    <tr style=\"text-align: right;\">\n",
       "      <th></th>\n",
       "      <th>Low_token</th>\n",
       "      <th>High_token</th>\n",
       "      <th>Similarity</th>\n",
       "    </tr>\n",
       "  </thead>\n",
       "  <tbody>\n",
       "    <tr>\n",
       "      <th>0</th>\n",
       "      <td>[elema]</td>\n",
       "      <td>[eleman]</td>\n",
       "      <td>0.909091</td>\n",
       "    </tr>\n",
       "    <tr>\n",
       "      <th>1</th>\n",
       "      <td>[eşkici]</td>\n",
       "      <td>[eleman]</td>\n",
       "      <td>0.166667</td>\n",
       "    </tr>\n",
       "    <tr>\n",
       "      <th>2</th>\n",
       "      <td>[asy]</td>\n",
       "      <td>[eleman]</td>\n",
       "      <td>0.222222</td>\n",
       "    </tr>\n",
       "    <tr>\n",
       "      <th>3</th>\n",
       "      <td>[erkek]</td>\n",
       "      <td>[eleman]</td>\n",
       "      <td>0.363636</td>\n",
       "    </tr>\n",
       "    <tr>\n",
       "      <th>4</th>\n",
       "      <td>[globbal]</td>\n",
       "      <td>[eleman]</td>\n",
       "      <td>0.307692</td>\n",
       "    </tr>\n",
       "    <tr>\n",
       "      <th>5</th>\n",
       "      <td>[lisse]</td>\n",
       "      <td>[eleman]</td>\n",
       "      <td>0.363636</td>\n",
       "    </tr>\n",
       "    <tr>\n",
       "      <th>6</th>\n",
       "      <td>[rtakım]</td>\n",
       "      <td>[eleman]</td>\n",
       "      <td>0.166667</td>\n",
       "    </tr>\n",
       "    <tr>\n",
       "      <th>7</th>\n",
       "      <td>[elema]</td>\n",
       "      <td>[eskici]</td>\n",
       "      <td>0.181818</td>\n",
       "    </tr>\n",
       "    <tr>\n",
       "      <th>8</th>\n",
       "      <td>[eşkici]</td>\n",
       "      <td>[eskici]</td>\n",
       "      <td>0.833333</td>\n",
       "    </tr>\n",
       "    <tr>\n",
       "      <th>9</th>\n",
       "      <td>[asy]</td>\n",
       "      <td>[eskici]</td>\n",
       "      <td>0.222222</td>\n",
       "    </tr>\n",
       "    <tr>\n",
       "      <th>10</th>\n",
       "      <td>[erkek]</td>\n",
       "      <td>[eskici]</td>\n",
       "      <td>0.363636</td>\n",
       "    </tr>\n",
       "    <tr>\n",
       "      <th>11</th>\n",
       "      <td>[globbal]</td>\n",
       "      <td>[eskici]</td>\n",
       "      <td>0.000000</td>\n",
       "    </tr>\n",
       "    <tr>\n",
       "      <th>12</th>\n",
       "      <td>[lisse]</td>\n",
       "      <td>[eskici]</td>\n",
       "      <td>0.181818</td>\n",
       "    </tr>\n",
       "    <tr>\n",
       "      <th>13</th>\n",
       "      <td>[rtakım]</td>\n",
       "      <td>[eskici]</td>\n",
       "      <td>0.166667</td>\n",
       "    </tr>\n",
       "    <tr>\n",
       "      <th>14</th>\n",
       "      <td>[elema]</td>\n",
       "      <td>[asya]</td>\n",
       "      <td>0.222222</td>\n",
       "    </tr>\n",
       "    <tr>\n",
       "      <th>15</th>\n",
       "      <td>[eşkici]</td>\n",
       "      <td>[asya]</td>\n",
       "      <td>0.000000</td>\n",
       "    </tr>\n",
       "    <tr>\n",
       "      <th>16</th>\n",
       "      <td>[asy]</td>\n",
       "      <td>[asya]</td>\n",
       "      <td>0.857143</td>\n",
       "    </tr>\n",
       "    <tr>\n",
       "      <th>17</th>\n",
       "      <td>[erkek]</td>\n",
       "      <td>[asya]</td>\n",
       "      <td>0.000000</td>\n",
       "    </tr>\n",
       "    <tr>\n",
       "      <th>18</th>\n",
       "      <td>[globbal]</td>\n",
       "      <td>[asya]</td>\n",
       "      <td>0.181818</td>\n",
       "    </tr>\n",
       "    <tr>\n",
       "      <th>19</th>\n",
       "      <td>[lisse]</td>\n",
       "      <td>[asya]</td>\n",
       "      <td>0.222222</td>\n",
       "    </tr>\n",
       "    <tr>\n",
       "      <th>20</th>\n",
       "      <td>[rtakım]</td>\n",
       "      <td>[asya]</td>\n",
       "      <td>0.200000</td>\n",
       "    </tr>\n",
       "    <tr>\n",
       "      <th>21</th>\n",
       "      <td>[elema]</td>\n",
       "      <td>[global]</td>\n",
       "      <td>0.363636</td>\n",
       "    </tr>\n",
       "    <tr>\n",
       "      <th>22</th>\n",
       "      <td>[eşkici]</td>\n",
       "      <td>[global]</td>\n",
       "      <td>0.000000</td>\n",
       "    </tr>\n",
       "    <tr>\n",
       "      <th>23</th>\n",
       "      <td>[asy]</td>\n",
       "      <td>[global]</td>\n",
       "      <td>0.222222</td>\n",
       "    </tr>\n",
       "    <tr>\n",
       "      <th>24</th>\n",
       "      <td>[erkek]</td>\n",
       "      <td>[global]</td>\n",
       "      <td>0.000000</td>\n",
       "    </tr>\n",
       "    <tr>\n",
       "      <th>25</th>\n",
       "      <td>[globbal]</td>\n",
       "      <td>[global]</td>\n",
       "      <td>0.923077</td>\n",
       "    </tr>\n",
       "    <tr>\n",
       "      <th>26</th>\n",
       "      <td>[lisse]</td>\n",
       "      <td>[global]</td>\n",
       "      <td>0.181818</td>\n",
       "    </tr>\n",
       "    <tr>\n",
       "      <th>27</th>\n",
       "      <td>[rtakım]</td>\n",
       "      <td>[global]</td>\n",
       "      <td>0.166667</td>\n",
       "    </tr>\n",
       "    <tr>\n",
       "      <th>28</th>\n",
       "      <td>[elema]</td>\n",
       "      <td>[lise]</td>\n",
       "      <td>0.222222</td>\n",
       "    </tr>\n",
       "    <tr>\n",
       "      <th>29</th>\n",
       "      <td>[eşkici]</td>\n",
       "      <td>[lise]</td>\n",
       "      <td>0.200000</td>\n",
       "    </tr>\n",
       "    <tr>\n",
       "      <th>30</th>\n",
       "      <td>[asy]</td>\n",
       "      <td>[lise]</td>\n",
       "      <td>0.285714</td>\n",
       "    </tr>\n",
       "    <tr>\n",
       "      <th>31</th>\n",
       "      <td>[erkek]</td>\n",
       "      <td>[lise]</td>\n",
       "      <td>0.222222</td>\n",
       "    </tr>\n",
       "    <tr>\n",
       "      <th>32</th>\n",
       "      <td>[globbal]</td>\n",
       "      <td>[lise]</td>\n",
       "      <td>0.181818</td>\n",
       "    </tr>\n",
       "    <tr>\n",
       "      <th>33</th>\n",
       "      <td>[lisse]</td>\n",
       "      <td>[lise]</td>\n",
       "      <td>0.888889</td>\n",
       "    </tr>\n",
       "    <tr>\n",
       "      <th>34</th>\n",
       "      <td>[rtakım]</td>\n",
       "      <td>[lise]</td>\n",
       "      <td>0.000000</td>\n",
       "    </tr>\n",
       "    <tr>\n",
       "      <th>35</th>\n",
       "      <td>[elema]</td>\n",
       "      <td>[takım]</td>\n",
       "      <td>0.200000</td>\n",
       "    </tr>\n",
       "    <tr>\n",
       "      <th>36</th>\n",
       "      <td>[eşkici]</td>\n",
       "      <td>[takım]</td>\n",
       "      <td>0.181818</td>\n",
       "    </tr>\n",
       "    <tr>\n",
       "      <th>37</th>\n",
       "      <td>[asy]</td>\n",
       "      <td>[takım]</td>\n",
       "      <td>0.250000</td>\n",
       "    </tr>\n",
       "    <tr>\n",
       "      <th>38</th>\n",
       "      <td>[erkek]</td>\n",
       "      <td>[takım]</td>\n",
       "      <td>0.200000</td>\n",
       "    </tr>\n",
       "    <tr>\n",
       "      <th>39</th>\n",
       "      <td>[globbal]</td>\n",
       "      <td>[takım]</td>\n",
       "      <td>0.166667</td>\n",
       "    </tr>\n",
       "    <tr>\n",
       "      <th>40</th>\n",
       "      <td>[lisse]</td>\n",
       "      <td>[takım]</td>\n",
       "      <td>0.000000</td>\n",
       "    </tr>\n",
       "    <tr>\n",
       "      <th>41</th>\n",
       "      <td>[rtakım]</td>\n",
       "      <td>[takım]</td>\n",
       "      <td>0.909091</td>\n",
       "    </tr>\n",
       "  </tbody>\n",
       "</table>\n",
       "</div>"
      ],
      "text/plain": [
       "    Low_token High_token  Similarity\n",
       "0     [elema]   [eleman]    0.909091\n",
       "1    [eşkici]   [eleman]    0.166667\n",
       "2       [asy]   [eleman]    0.222222\n",
       "3     [erkek]   [eleman]    0.363636\n",
       "4   [globbal]   [eleman]    0.307692\n",
       "5     [lisse]   [eleman]    0.363636\n",
       "6    [rtakım]   [eleman]    0.166667\n",
       "7     [elema]   [eskici]    0.181818\n",
       "8    [eşkici]   [eskici]    0.833333\n",
       "9       [asy]   [eskici]    0.222222\n",
       "10    [erkek]   [eskici]    0.363636\n",
       "11  [globbal]   [eskici]    0.000000\n",
       "12    [lisse]   [eskici]    0.181818\n",
       "13   [rtakım]   [eskici]    0.166667\n",
       "14    [elema]     [asya]    0.222222\n",
       "15   [eşkici]     [asya]    0.000000\n",
       "16      [asy]     [asya]    0.857143\n",
       "17    [erkek]     [asya]    0.000000\n",
       "18  [globbal]     [asya]    0.181818\n",
       "19    [lisse]     [asya]    0.222222\n",
       "20   [rtakım]     [asya]    0.200000\n",
       "21    [elema]   [global]    0.363636\n",
       "22   [eşkici]   [global]    0.000000\n",
       "23      [asy]   [global]    0.222222\n",
       "24    [erkek]   [global]    0.000000\n",
       "25  [globbal]   [global]    0.923077\n",
       "26    [lisse]   [global]    0.181818\n",
       "27   [rtakım]   [global]    0.166667\n",
       "28    [elema]     [lise]    0.222222\n",
       "29   [eşkici]     [lise]    0.200000\n",
       "30      [asy]     [lise]    0.285714\n",
       "31    [erkek]     [lise]    0.222222\n",
       "32  [globbal]     [lise]    0.181818\n",
       "33    [lisse]     [lise]    0.888889\n",
       "34   [rtakım]     [lise]    0.000000\n",
       "35    [elema]    [takım]    0.200000\n",
       "36   [eşkici]    [takım]    0.181818\n",
       "37      [asy]    [takım]    0.250000\n",
       "38    [erkek]    [takım]    0.200000\n",
       "39  [globbal]    [takım]    0.166667\n",
       "40    [lisse]    [takım]    0.000000\n",
       "41   [rtakım]    [takım]    0.909091"
      ]
     },
     "execution_count": 19,
     "metadata": {},
     "output_type": "execute_result"
    }
   ],
   "source": [
    "df.columns=[\"Low_token\",\"High_token\",\"Similarity\"]\n",
    "df"
   ]
  },
  {
   "cell_type": "code",
   "execution_count": 21,
   "metadata": {},
   "outputs": [
    {
     "data": {
      "text/plain": [
       "0.9090909090909091"
      ]
     },
     "execution_count": 21,
     "metadata": {},
     "output_type": "execute_result"
    }
   ],
   "source": [
    "from difflib import SequenceMatcher\n",
    "m = SequenceMatcher(None,\"elema\",\"eleman\")\n",
    "m.ratio()"
   ]
  },
  {
   "cell_type": "code",
   "execution_count": 22,
   "metadata": {},
   "outputs": [
    {
     "data": {
      "text/plain": [
       "0.8333333333333334"
      ]
     },
     "execution_count": 22,
     "metadata": {},
     "output_type": "execute_result"
    }
   ],
   "source": [
    "from difflib import SequenceMatcher\n",
    "m = SequenceMatcher(None,\"eşkici\",\"eskici\")\n",
    "m.ratio()"
   ]
  },
  {
   "cell_type": "code",
   "execution_count": 23,
   "metadata": {},
   "outputs": [
    {
     "data": {
      "text/plain": [
       "0.8571428571428571"
      ]
     },
     "execution_count": 23,
     "metadata": {},
     "output_type": "execute_result"
    }
   ],
   "source": [
    "from difflib import SequenceMatcher\n",
    "m = SequenceMatcher(None,\"asy\",\"asya\")\n",
    "m.ratio()"
   ]
  },
  {
   "cell_type": "code",
   "execution_count": null,
   "metadata": {},
   "outputs": [],
   "source": []
  }
 ],
 "metadata": {
  "kernelspec": {
   "display_name": "Python 3",
   "language": "python",
   "name": "python3"
  },
  "language_info": {
   "codemirror_mode": {
    "name": "ipython",
    "version": 3
   },
   "file_extension": ".py",
   "mimetype": "text/x-python",
   "name": "python",
   "nbconvert_exporter": "python",
   "pygments_lexer": "ipython3",
   "version": "3.8.3"
  }
 },
 "nbformat": 4,
 "nbformat_minor": 4
}
