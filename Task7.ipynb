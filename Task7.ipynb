{
 "cells": [
  {
   "cell_type": "code",
   "execution_count": 1,
   "metadata": {},
   "outputs": [],
   "source": [
    "import difflib\n",
    "from nltk.tokenize import word_tokenize\n"
   ]
  },
  {
   "cell_type": "code",
   "execution_count": 2,
   "metadata": {},
   "outputs": [
    {
     "name": "stdout",
     "output_type": "stream",
     "text": [
      "1.0\n"
     ]
    }
   ],
   "source": [
    "s1='merhaba'\n",
    "s2='merhaba'\n",
    "print(difflib.SequenceMatcher(None,s1,s2,False).ratio())"
   ]
  },
  {
   "cell_type": "code",
   "execution_count": 3,
   "metadata": {},
   "outputs": [
    {
     "ename": "ModuleNotFoundError",
     "evalue": "No module named 'fuzzywuzzy'",
     "output_type": "error",
     "traceback": [
      "\u001b[1;31m---------------------------------------------------------------------------\u001b[0m",
      "\u001b[1;31mModuleNotFoundError\u001b[0m                       Traceback (most recent call last)",
      "\u001b[1;32m<ipython-input-3-b053e0ca51ba>\u001b[0m in \u001b[0;36m<module>\u001b[1;34m\u001b[0m\n\u001b[1;32m----> 1\u001b[1;33m \u001b[1;32mfrom\u001b[0m \u001b[0mfuzzywuzzy\u001b[0m \u001b[1;32mimport\u001b[0m \u001b[0mfuzz\u001b[0m\u001b[1;33m\u001b[0m\u001b[1;33m\u001b[0m\u001b[0m\n\u001b[0m\u001b[0;32m      2\u001b[0m \u001b[0mfile\u001b[0m\u001b[1;33m=\u001b[0m\u001b[0mopen\u001b[0m\u001b[1;33m(\u001b[0m\u001b[1;34m\"Daily.txt\"\u001b[0m\u001b[1;33m,\u001b[0m\u001b[0mencoding\u001b[0m\u001b[1;33m=\u001b[0m\u001b[1;34m\"utf-8\"\u001b[0m\u001b[1;33m)\u001b[0m\u001b[1;33m\u001b[0m\u001b[1;33m\u001b[0m\u001b[0m\n\u001b[0;32m      3\u001b[0m \u001b[0mfile\u001b[0m\u001b[1;33m=\u001b[0m\u001b[0mfile\u001b[0m\u001b[1;33m.\u001b[0m\u001b[0mread\u001b[0m\u001b[1;33m(\u001b[0m\u001b[1;33m)\u001b[0m\u001b[1;33m\u001b[0m\u001b[1;33m\u001b[0m\u001b[0m\n\u001b[0;32m      4\u001b[0m \u001b[0mstopwords\u001b[0m \u001b[1;33m=\u001b[0m \u001b[0mnltk\u001b[0m\u001b[1;33m.\u001b[0m\u001b[0mcorpus\u001b[0m\u001b[1;33m.\u001b[0m\u001b[0mstopwords\u001b[0m\u001b[1;33m.\u001b[0m\u001b[0mwords\u001b[0m\u001b[1;33m(\u001b[0m\u001b[1;34m'turkish'\u001b[0m\u001b[1;33m)\u001b[0m\u001b[1;33m\u001b[0m\u001b[1;33m\u001b[0m\u001b[0m\n\u001b[0;32m      5\u001b[0m \u001b[0mtokenized\u001b[0m \u001b[1;33m=\u001b[0m \u001b[0mfile\u001b[0m\u001b[1;33m.\u001b[0m\u001b[0msplit\u001b[0m\u001b[1;33m(\u001b[0m\u001b[1;33m)\u001b[0m\u001b[1;33m\u001b[0m\u001b[1;33m\u001b[0m\u001b[0m\n",
      "\u001b[1;31mModuleNotFoundError\u001b[0m: No module named 'fuzzywuzzy'"
     ]
    }
   ],
   "source": [
    "from fuzzywuzzy import fuzz\n",
    "file=open(\"Daily.txt\",encoding=\"utf-8\")\n",
    "file=file.read()\n",
    "stopwords = nltk.corpus.stopwords.words('turkish') \n",
    "tokenized = file.split()\n",
    "tokenized = [token.lower() for token in tokenized if token.isalpha()]"
   ]
  },
  {
   "cell_type": "code",
   "execution_count": null,
   "metadata": {},
   "outputs": [],
   "source": [
    "def lowList(token):\n",
    "    low=nltk.ngrams(token,1)\n",
    "    lowFrequency=Counter(low)\n",
    "    valuesOfLowFrequency=list(lowFrequency.values())\n",
    "    lowFrequencyList=list(lowFrequency)\n",
    "\n",
    "    lowlist=[]\n",
    "    for x in range(0,len(lowFrequencyList)):\n",
    "        if(valuesOfLowFrequency[x]<5):\n",
    "            low=lowFrequencyList[x]\n",
    "            lowlist.append(low)\n",
    "            #print(lowlist)\n",
    "    return (lowlist)\n",
    "\n",
    "lowlist=[]\n",
    "lowList(tokenized)"
   ]
  },
  {
   "cell_type": "code",
   "execution_count": null,
   "metadata": {},
   "outputs": [],
   "source": [
    "def highList(token):\n",
    "    high=nltk.ngrams(token,1)\n",
    "    highFrequency=Counter(high)\n",
    "    valuesOfHighFrequency=list(highFrequency.values())\n",
    "    highFrequencyList=list(highFrequency)\n",
    "\n",
    "    highlist=[]\n",
    "    for x in range(0,len(highFrequencyList)):\n",
    "        if(valuesOfHighFrequency[x]>4):\n",
    "            high=highFrequencyList[x]\n",
    "            highlist.append(high)\n",
    "            #print(highlist)\n",
    "    return (highlist)\n",
    "\n",
    "highlist=[]\n",
    "highlist=highList(tokenized)\n",
    "highlist"
   ]
  },
  {
   "cell_type": "code",
   "execution_count": null,
   "metadata": {},
   "outputs": [],
   "source": [
    "low_list=\"\"\"çalışıorum uznu zamnadır pandeniden doalyı etsaüd  konuşyor \"\"\"\n",
    "low_list=low_list.split()\n",
    "high_list=\"\"\"saat napıyorsun evet pandemi aynen iyi kötü hayır  \"\"\"\n",
    "high_list=high_list.split()"
   ]
  },
  {
   "cell_type": "code",
   "execution_count": null,
   "metadata": {},
   "outputs": [],
   "source": [
    "\n",
    "    for token1 in low_list:\n",
    "        for token2 in high_list:\n",
    "            mylist=[(token1.splitlines(),token2.splitlines()),\"Similarity=>\",difflib.SequenceMatcher(None,token1,token2,False).ratio()]\n",
    "            print(mylist)"
   ]
  },
  {
   "cell_type": "code",
   "execution_count": null,
   "metadata": {},
   "outputs": [],
   "source": [
    "mylist2=[(token1.splitlines(),token2.splitlines(),difflib.SequenceMatcher(None,token1,token2,False).ratio()) for token2 in low_list for token1 in high_list]\n",
    "mylist2"
   ]
  },
  {
   "cell_type": "code",
   "execution_count": null,
   "metadata": {},
   "outputs": [],
   "source": [
    "df.columns=[\"Token1\",\"Token2\",\"Similarity\"]\n",
    "df"
   ]
  },
  {
   "cell_type": "code",
   "execution_count": null,
   "metadata": {},
   "outputs": [],
   "source": []
  }
 ],
 "metadata": {
  "kernelspec": {
   "display_name": "Python 3",
   "language": "python",
   "name": "python3"
  },
  "language_info": {
   "codemirror_mode": {
    "name": "ipython",
    "version": 3
   },
   "file_extension": ".py",
   "mimetype": "text/x-python",
   "name": "python",
   "nbconvert_exporter": "python",
   "pygments_lexer": "ipython3",
   "version": "3.8.3"
  }
 },
 "nbformat": 4,
 "nbformat_minor": 4
}
